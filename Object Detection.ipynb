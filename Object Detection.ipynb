{
 "cells": [
  {
   "cell_type": "code",
   "execution_count": 2,
   "id": "d8292262",
   "metadata": {},
   "outputs": [],
   "source": [
    "import cv2\n",
    "import numpy as np\n",
    "import time\n",
    "from sort import Sort  # Sort tracking algorithm"
   ]
  },
  {
   "cell_type": "code",
   "execution_count": 3,
   "id": "7d2a07d4",
   "metadata": {},
   "outputs": [],
   "source": [
    "# Load model and class labels\n",
    "config_file = 'ssd_mobilenet_v3_large_coco_2020_01_14.pbtxt'\n",
    "frozen_model = 'frozen_inference_graph.pb'\n",
    "model = cv2.dnn_DetectionModel(frozen_model, config_file)"
   ]
  },
  {
   "cell_type": "code",
   "execution_count": 4,
   "id": "260c262e",
   "metadata": {},
   "outputs": [],
   "source": [
    "classLabels = []\n",
    "file_name = 'labels.txt'\n",
    "with open(file_name, 'rt') as fpt:\n",
    "    classLabels = fpt.read().rstrip('\\n').split('\\n')"
   ]
  },
  {
   "cell_type": "code",
   "execution_count": 5,
   "id": "e1c9bb58",
   "metadata": {},
   "outputs": [
    {
     "data": {
      "text/plain": [
       "< cv2.dnn.Model 000002C385C62670>"
      ]
     },
     "execution_count": 5,
     "metadata": {},
     "output_type": "execute_result"
    }
   ],
   "source": [
    "# Configure model input\n",
    "model.setInputSize(320, 320)\n",
    "model.setInputScale(1.0 / 127.5)\n",
    "model.setInputMean((127.5, 127.5, 127.5))\n",
    "model.setInputSwapRB(True)\n"
   ]
  },
  {
   "cell_type": "code",
   "execution_count": 6,
   "id": "cde79516",
   "metadata": {},
   "outputs": [],
   "source": [
    "# Function to draw text with background\n",
    "def draw_text_with_background(img, text, x, y, font=cv2.FONT_HERSHEY_PLAIN, font_scale=2, thickness=2):\n",
    "    (text_width, text_height) = cv2.getTextSize(text, font, fontScale=font_scale, thickness=thickness)[0]\n",
    "    cv2.rectangle(img, (x, y - text_height - 10), (x + text_width + 10, y), (0, 0, 0), -1)\n",
    "    cv2.putText(img, text, (x, y - 10), font, fontScale=font_scale, color=(255, 255, 255), thickness=thickness)\n"
   ]
  },
  {
   "cell_type": "code",
   "execution_count": 7,
   "id": "8be3641a",
   "metadata": {},
   "outputs": [],
   "source": [
    "# Bounding box colors for different classes\n",
    "bbox_colors = np.random.uniform(0, 255, size=(len(classLabels), 3))"
   ]
  },
  {
   "cell_type": "code",
   "execution_count": 8,
   "id": "d0d4926b",
   "metadata": {},
   "outputs": [],
   "source": [
    "# FPS calculation variables\n",
    "fps_start_time = 0\n",
    "fps_frame_counter = 0"
   ]
  },
  {
   "cell_type": "code",
   "execution_count": 9,
   "id": "7e88ee52",
   "metadata": {},
   "outputs": [],
   "source": [
    "# Object counting variables\n",
    "object_counts = {label: 0 for label in classLabels}"
   ]
  },
  {
   "cell_type": "code",
   "execution_count": 11,
   "id": "fa44f4ed",
   "metadata": {},
   "outputs": [],
   "source": [
    "# Read the video file\n",
    "cap = cv2.VideoCapture(\"Traffic.mp4\")\n",
    "if not cap.isOpened():\n",
    "    raise IOError(\"Cannot open video file\")\n",
    "\n",
    "# Video writer for output\n",
    "video_width = int(cap.get(cv2.CAP_PROP_FRAME_WIDTH))\n",
    "video_height = int(cap.get(cv2.CAP_PROP_FRAME_HEIGHT))\n",
    "fps = int(cap.get(cv2.CAP_PROP_FPS))\n",
    "\n",
    "out = cv2.VideoWriter('output.avi', cv2.VideoWriter_fourcc(*'XVID'), fps, (video_width, video_height))\n",
    "\n",
    "# Initialize SORT tracker\n",
    "tracker = Sort()\n",
    "\n",
    "while True:\n",
    "    ret, frame = cap.read()\n",
    "    if not ret:\n",
    "        break\n",
    "    \n",
    "    # Object detection\n",
    "    ClassIndex, confidence, bbox = model.detect(frame, confThreshold=0.55)\n",
    "    \n",
    "    # Convert bounding boxes to the format required by SORT\n",
    "    if len(bbox) > 0:\n",
    "        bbox_for_sort = np.array([list(map(float, box)) for box in bbox])\n",
    "    else:\n",
    "        bbox_for_sort = np.empty((0, 4))\n",
    "\n",
    "    # Track objects using SORT\n",
    "    track_bboxes = tracker.update(bbox_for_sort)\n",
    "    \n",
    "    # Ensure the ClassIndex array is properly formatted\n",
    "    if len(ClassIndex) > 0 and isinstance(ClassIndex, np.ndarray):\n",
    "        ClassIndex = ClassIndex.flatten()\n",
    "    \n",
    "    if len(track_bboxes) != 0:\n",
    "        for i, bbox in enumerate(track_bboxes):\n",
    "            if len(bbox) >= 4:\n",
    "                left, top, right, bottom = bbox[:4].astype(int)\n",
    "                width = right - left\n",
    "                height = bottom - top\n",
    "                \n",
    "                # Ensure width and height are valid\n",
    "                if width > 0 and height > 0:\n",
    "                    # Draw tracked bounding box in red\n",
    "                    cv2.rectangle(frame, (left, top), (right, bottom), (0, 0, 255), 2)\n",
    "                    cv2.putText(frame, f'Tracked {i}', (left, top - 10), cv2.FONT_HERSHEY_SIMPLEX, 0.6, (0, 0, 255), 2)\n",
    "                    \n",
    "                    # Increment object count\n",
    "                    if i < len(ClassIndex) and ClassIndex[i] <= len(classLabels):\n",
    "                        object_counts[classLabels[ClassIndex[i] - 1]] += 1\n",
    "\n",
    "    # Draw detected bounding boxes in green\n",
    "    if len(ClassIndex) != 0:\n",
    "        for ClassInd, conf, boxes in zip(ClassIndex.flatten(), confidence.flatten(), bbox):\n",
    "            if ClassInd <= len(classLabels):\n",
    "                if isinstance(boxes, (list, tuple, np.ndarray)) and len(boxes) == 4:\n",
    "                    x, y, w, h = boxes\n",
    "                    cv2.rectangle(frame, (x, y), (x + w, y + h), (0, 255, 0), 2)\n",
    "                    draw_text_with_background(frame, f'{classLabels[ClassInd - 1]}: {conf * 100:.2f}%', x, y)\n",
    "\n",
    "    # Calculate FPS\n",
    "    fps_frame_counter += 1\n",
    "    if fps_frame_counter == 1:\n",
    "        fps_start_time = time.time()\n",
    "    else:\n",
    "        if fps_frame_counter % 10 == 0:\n",
    "            fps_end_time = time.time()\n",
    "            fps = fps_frame_counter / (fps_end_time - fps_start_time)\n",
    "            fps_frame_counter = 0\n",
    "            fps_start_time = time.time()\n",
    "            draw_text_with_background(frame, f\"FPS: {fps:.2f}\", 10, 50, font_scale=2, thickness=2)\n",
    "    \n",
    "    # Display object counts in multiple lines if necessary\n",
    "    count_texts = []\n",
    "    line_text = \"\"\n",
    "    for label, count in object_counts.items():\n",
    "        if count > 0:  # Only include non-zero counts\n",
    "            new_text = f\"{label}: {count}, \"\n",
    "            if len(line_text) + len(new_text) > 60:  # Adjust the line length as needed\n",
    "                count_texts.append(line_text)\n",
    "                line_text = new_text\n",
    "            else:\n",
    "                line_text += new_text\n",
    "    count_texts.append(line_text)  # Add the last line\n",
    "\n",
    "    y_offset = 100\n",
    "    for text in count_texts:\n",
    "        draw_text_with_background(frame, text.strip(\", \"), 10, y_offset, font_scale=1.5, thickness=2)\n",
    "        y_offset += 40  # Adjust the vertical spacing as needed\n",
    "\n",
    "    \n",
    "    # Save frames with detections\n",
    "    if len(ClassIndex) != 0:\n",
    "        cv2.imwrite(f'detected_frames/frame_{fps_frame_counter}.jpg', frame)\n",
    "    \n",
    "    # Write frame to output video\n",
    "    out.write(frame)\n",
    "    \n",
    "    # Display video feed\n",
    "    cv2.imshow('Object Detection', frame)\n",
    "    \n",
    "    # Keyboard controls\n",
    "    key = cv2.waitKey(1)\n",
    "    if key == ord('q'):  # Exit when 'q' is pressed\n",
    "        break\n",
    "    elif key == ord('p'):  # Pause when 'p' is pressed\n",
    "        while True:\n",
    "            key2 = cv2.waitKey(1)\n",
    "            cv2.imshow('Object Detection', frame)\n",
    "            if key2 == ord('p') or key2 == ord('q'):  # Press 'p' again to resume or 'q' to quit\n",
    "                break\n",
    "\n",
    "\n",
    "# Release video capture and close windows\n",
    "cap.release()\n",
    "out.release()\n",
    "cv2.destroyAllWindows()"
   ]
  },
  {
   "cell_type": "code",
   "execution_count": null,
   "id": "15341bcf",
   "metadata": {},
   "outputs": [],
   "source": []
  }
 ],
 "metadata": {
  "kernelspec": {
   "display_name": "Python 3 (ipykernel)",
   "language": "python",
   "name": "python3"
  },
  "language_info": {
   "codemirror_mode": {
    "name": "ipython",
    "version": 3
   },
   "file_extension": ".py",
   "mimetype": "text/x-python",
   "name": "python",
   "nbconvert_exporter": "python",
   "pygments_lexer": "ipython3",
   "version": "3.11.5"
  }
 },
 "nbformat": 4,
 "nbformat_minor": 5
}
